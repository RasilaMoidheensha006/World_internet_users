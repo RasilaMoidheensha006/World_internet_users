{
  "nbformat": 4,
  "nbformat_minor": 0,
  "metadata": {
    "colab": {
      "provenance": [],
      "authorship_tag": "ABX9TyNS4MjHBKqhJ5OUvzaSXkjG",
      "include_colab_link": true
    },
    "kernelspec": {
      "name": "python3",
      "display_name": "Python 3"
    },
    "language_info": {
      "name": "python"
    }
  },
  "cells": [
    {
      "cell_type": "markdown",
      "metadata": {
        "id": "view-in-github",
        "colab_type": "text"
      },
      "source": [
        "<a href=\"https://colab.research.google.com/github/RasilaMoidheensha006/World_internet_users/blob/main/World_internet_users.ipynb\" target=\"_parent\"><img src=\"https://colab.research.google.com/assets/colab-badge.svg\" alt=\"Open In Colab\"/></a>"
      ]
    },
    {
      "cell_type": "code",
      "execution_count": null,
      "metadata": {
        "colab": {
          "base_uri": "https://localhost:8080/",
          "height": 1000
        },
        "id": "koA0MmnvyJv1",
        "outputId": "120630c6-71fc-4018-b8c2-508a13133af6"
      },
      "outputs": [
        {
          "output_type": "display_data",
          "data": {
            "text/plain": [
              "<IPython.core.display.HTML object>"
            ],
            "text/html": [
              "\n",
              "     <input type=\"file\" id=\"files-c4bf622c-abe2-44d0-8f00-f0e379248315\" name=\"files[]\" multiple disabled\n",
              "        style=\"border:none\" />\n",
              "     <output id=\"result-c4bf622c-abe2-44d0-8f00-f0e379248315\">\n",
              "      Upload widget is only available when the cell has been executed in the\n",
              "      current browser session. Please rerun this cell to enable.\n",
              "      </output>\n",
              "      <script>// Copyright 2017 Google LLC\n",
              "//\n",
              "// Licensed under the Apache License, Version 2.0 (the \"License\");\n",
              "// you may not use this file except in compliance with the License.\n",
              "// You may obtain a copy of the License at\n",
              "//\n",
              "//      http://www.apache.org/licenses/LICENSE-2.0\n",
              "//\n",
              "// Unless required by applicable law or agreed to in writing, software\n",
              "// distributed under the License is distributed on an \"AS IS\" BASIS,\n",
              "// WITHOUT WARRANTIES OR CONDITIONS OF ANY KIND, either express or implied.\n",
              "// See the License for the specific language governing permissions and\n",
              "// limitations under the License.\n",
              "\n",
              "/**\n",
              " * @fileoverview Helpers for google.colab Python module.\n",
              " */\n",
              "(function(scope) {\n",
              "function span(text, styleAttributes = {}) {\n",
              "  const element = document.createElement('span');\n",
              "  element.textContent = text;\n",
              "  for (const key of Object.keys(styleAttributes)) {\n",
              "    element.style[key] = styleAttributes[key];\n",
              "  }\n",
              "  return element;\n",
              "}\n",
              "\n",
              "// Max number of bytes which will be uploaded at a time.\n",
              "const MAX_PAYLOAD_SIZE = 100 * 1024;\n",
              "\n",
              "function _uploadFiles(inputId, outputId) {\n",
              "  const steps = uploadFilesStep(inputId, outputId);\n",
              "  const outputElement = document.getElementById(outputId);\n",
              "  // Cache steps on the outputElement to make it available for the next call\n",
              "  // to uploadFilesContinue from Python.\n",
              "  outputElement.steps = steps;\n",
              "\n",
              "  return _uploadFilesContinue(outputId);\n",
              "}\n",
              "\n",
              "// This is roughly an async generator (not supported in the browser yet),\n",
              "// where there are multiple asynchronous steps and the Python side is going\n",
              "// to poll for completion of each step.\n",
              "// This uses a Promise to block the python side on completion of each step,\n",
              "// then passes the result of the previous step as the input to the next step.\n",
              "function _uploadFilesContinue(outputId) {\n",
              "  const outputElement = document.getElementById(outputId);\n",
              "  const steps = outputElement.steps;\n",
              "\n",
              "  const next = steps.next(outputElement.lastPromiseValue);\n",
              "  return Promise.resolve(next.value.promise).then((value) => {\n",
              "    // Cache the last promise value to make it available to the next\n",
              "    // step of the generator.\n",
              "    outputElement.lastPromiseValue = value;\n",
              "    return next.value.response;\n",
              "  });\n",
              "}\n",
              "\n",
              "/**\n",
              " * Generator function which is called between each async step of the upload\n",
              " * process.\n",
              " * @param {string} inputId Element ID of the input file picker element.\n",
              " * @param {string} outputId Element ID of the output display.\n",
              " * @return {!Iterable<!Object>} Iterable of next steps.\n",
              " */\n",
              "function* uploadFilesStep(inputId, outputId) {\n",
              "  const inputElement = document.getElementById(inputId);\n",
              "  inputElement.disabled = false;\n",
              "\n",
              "  const outputElement = document.getElementById(outputId);\n",
              "  outputElement.innerHTML = '';\n",
              "\n",
              "  const pickedPromise = new Promise((resolve) => {\n",
              "    inputElement.addEventListener('change', (e) => {\n",
              "      resolve(e.target.files);\n",
              "    });\n",
              "  });\n",
              "\n",
              "  const cancel = document.createElement('button');\n",
              "  inputElement.parentElement.appendChild(cancel);\n",
              "  cancel.textContent = 'Cancel upload';\n",
              "  const cancelPromise = new Promise((resolve) => {\n",
              "    cancel.onclick = () => {\n",
              "      resolve(null);\n",
              "    };\n",
              "  });\n",
              "\n",
              "  // Wait for the user to pick the files.\n",
              "  const files = yield {\n",
              "    promise: Promise.race([pickedPromise, cancelPromise]),\n",
              "    response: {\n",
              "      action: 'starting',\n",
              "    }\n",
              "  };\n",
              "\n",
              "  cancel.remove();\n",
              "\n",
              "  // Disable the input element since further picks are not allowed.\n",
              "  inputElement.disabled = true;\n",
              "\n",
              "  if (!files) {\n",
              "    return {\n",
              "      response: {\n",
              "        action: 'complete',\n",
              "      }\n",
              "    };\n",
              "  }\n",
              "\n",
              "  for (const file of files) {\n",
              "    const li = document.createElement('li');\n",
              "    li.append(span(file.name, {fontWeight: 'bold'}));\n",
              "    li.append(span(\n",
              "        `(${file.type || 'n/a'}) - ${file.size} bytes, ` +\n",
              "        `last modified: ${\n",
              "            file.lastModifiedDate ? file.lastModifiedDate.toLocaleDateString() :\n",
              "                                    'n/a'} - `));\n",
              "    const percent = span('0% done');\n",
              "    li.appendChild(percent);\n",
              "\n",
              "    outputElement.appendChild(li);\n",
              "\n",
              "    const fileDataPromise = new Promise((resolve) => {\n",
              "      const reader = new FileReader();\n",
              "      reader.onload = (e) => {\n",
              "        resolve(e.target.result);\n",
              "      };\n",
              "      reader.readAsArrayBuffer(file);\n",
              "    });\n",
              "    // Wait for the data to be ready.\n",
              "    let fileData = yield {\n",
              "      promise: fileDataPromise,\n",
              "      response: {\n",
              "        action: 'continue',\n",
              "      }\n",
              "    };\n",
              "\n",
              "    // Use a chunked sending to avoid message size limits. See b/62115660.\n",
              "    let position = 0;\n",
              "    do {\n",
              "      const length = Math.min(fileData.byteLength - position, MAX_PAYLOAD_SIZE);\n",
              "      const chunk = new Uint8Array(fileData, position, length);\n",
              "      position += length;\n",
              "\n",
              "      const base64 = btoa(String.fromCharCode.apply(null, chunk));\n",
              "      yield {\n",
              "        response: {\n",
              "          action: 'append',\n",
              "          file: file.name,\n",
              "          data: base64,\n",
              "        },\n",
              "      };\n",
              "\n",
              "      let percentDone = fileData.byteLength === 0 ?\n",
              "          100 :\n",
              "          Math.round((position / fileData.byteLength) * 100);\n",
              "      percent.textContent = `${percentDone}% done`;\n",
              "\n",
              "    } while (position < fileData.byteLength);\n",
              "  }\n",
              "\n",
              "  // All done.\n",
              "  yield {\n",
              "    response: {\n",
              "      action: 'complete',\n",
              "    }\n",
              "  };\n",
              "}\n",
              "\n",
              "scope.google = scope.google || {};\n",
              "scope.google.colab = scope.google.colab || {};\n",
              "scope.google.colab._files = {\n",
              "  _uploadFiles,\n",
              "  _uploadFilesContinue,\n",
              "};\n",
              "})(self);\n",
              "</script> "
            ]
          },
          "metadata": {}
        },
        {
          "output_type": "stream",
          "name": "stdout",
          "text": [
            "Saving world_internet_user.csv to world_internet_user.csv\n"
          ]
        },
        {
          "output_type": "execute_result",
          "data": {
            "text/plain": [
              "{'world_internet_user.csv': b'Country,Region,Population,Internet Users,% of Population\\r\\n_World,,7920539977,5424080321,68.48\\r\\nAfganistan,Asia,40403518,9237489,22.86\\r\\nAlbania,Europe,2872758,2191467,76.28\\r\\nAlgeria,Africa,45150879,37836425,83.80\\r\\nAmerican Samoa,Oceania,54995,34800,63.28\\r\\nAndorra,Europe,77465,73101,94.37\\r\\nAngola,Africa,34592611,8980670,25.96\\r\\nAnguilla,America,15222,13665,89.77\\r\\nAntarctica,Oceania,2700,2700,100.00\\r\\nAntigua & Barbuda,America,99251,79731,80.33\\r\\nArgentina,America,45873172,42000000,91.56\\r\\nArmenia,Asia,2972164,2288566,77.00\\r\\nAruba,America,107499,111800,104.00\\r\\nAustralia,Oceania,25990169,23391152,90.00\\r\\nAustria,Europe,9090358,7999515,88.00\\r\\nAzerbaijan,Asia,10288594,8745304,85.00\\r\\nBahamas,America,399387,347467,87.00\\r\\nBahrain,Middle East,1804583,1804583,100.00\\r\\nBangladesh,Asia,167377329,129180000,77.18\\r\\nBarbados,America,286388,228717,79.86\\r\\nBelarus,Europe,9444331,8027681,85.00\\r\\nBelgium,Europe,11671799,10738055,92.00\\r\\nBelize,America,409633,305200,74.51\\r\\nBenin,Africa,12653644,3801758,30.04\\r\\nBermuda,America,61912,61969,100.09\\r\\nBhutan,Asia,785558,583900,74.33\\r\\nBolivia,America,11935560,8902400,74.59\\r\\n\"Bonaire, S.E., Saba\",America,26621,20956,78.72\\r\\nBosnia-Herzegovina,Europe,3248442,2828846,87.08\\r\\nBotswana,Africa,2429926,1247000,51.32\\r\\nBrazil,America,215016658,178100000,82.83\\r\\nBritish Virgin Islands,America,30558,25024,81.89\\r\\nBrunei Darussulam,Asia,444336,531800,119.68\\r\\nBulgaria,Europe,6865308,4805716,70.00\\r\\nBurkina Faso,Africa,21863344,4594265,21.01\\r\\nBurundi,Africa,12487044,1606122,12.86\\r\\nCabo Verde,Africa,565751,352120,62.24\\r\\nCambodia,Asia,17101186,13875400,81.14\\r\\nCameroon,Africa,27646656,9158422,33.13\\r\\nCanada,America,38281870,37133414,97.00\\r\\nCayman Islands,America,66990,73800,110.17\\r\\nCentral African Rep.,Africa,4967426,557085,11.21\\r\\nChad,Africa,17217597,2237932,13.00\\r\\nChile,America,19383887,18835100,97.17\\r\\nChina,Asia,1448314408,1010740000,69.79\\r\\nChristmas Island,Oceania,2205,1449,65.71\\r\\nCocos (Keeling) Is.,Oceania,596,414,69.46\\r\\nColombia,America,49464683,43416500,87.77\\r\\nComoros,Africa,900222,228800,25.42\\r\\nCongo,Africa,5744245,930800,16.20\\r\\n\"Congo, Dem. Rep.\",Africa,94152930,16355917,17.37\\r\\nCook Islands,Oceania,17590,13100,74.47\\r\\nCosta Rica,America,5170019,4425600,85.60\\r\\nCote d\\'Ivoire,Africa,27473629,12253653,44.60\\r\\nCroatia,Europe,4046915,3787838,93.60\\r\\nCuba,America,11315552,8373508,74.00\\r\\nCura\\xe7ao,America,165178,151274,91.58\\r\\nCyprus,Europe,1221767,1320400,108.07\\r\\nCzech Republic,Europe,10741182,9323428,86.80\\r\\nDenmark,Europe,5825378,5689589,97.67\\r\\nDjibouti,Africa,1011573,548832,54.26\\r\\nDominica,America,72274,51992,71.94\\r\\nDominican Republic,America,11025942,8489975,77.00\\r\\nEcuador,America,18086232,15769600,87.19\\r\\nEgypt,Africa,105530371,54741493,51.87\\r\\nEl Salvador,America,6539150,4895400,74.86\\r\\nEquatorial Guinea,Africa,1481822,362891,24.49\\r\\nEritrea,Africa,3626986,248199,6.84\\r\\nEstonia,Europe,1327977,1276521,96.13\\r\\nEswatini,Africa,1179737,665245,56.39\\r\\nEthiopia,Africa,119748379,21147255,17.66\\r\\nFalkland Islands,America,3653,3600,98.55\\r\\nFaroe Islands,Europe,49165,48489,98.63\\r\\nFiji,Oceania,907111,688000,75.85\\r\\nFinland,Europe,5554662,5225678,94.08\\r\\nFrance,Europe,65507789,60421689,92.24\\r\\nFrench Guiana,America,311788,162800,52.21\\r\\nFrench Polynesia,Oceania,283566,230000,81.11\\r\\nGabon,Africa,2313754,1367641,59.11\\r\\nGambia,Africa,2531578,442050,17.46\\r\\nGeorgia,Asia,3976929,3628500,91.24\\r\\nGermany,Europe,84219392,79127551,93.95\\r\\nGhana,Africa,32154245,14767818,45.93\\r\\nGibraltar,Europe,33675,32939,97.81\\r\\nGreece,Europe,10341683,8115397,78.47\\r\\nGreenland,America,56928,52000,91.34\\r\\nGrenada,America,113367,92200,81.33\\r\\nGuadeloupe,America,400234,290100,72.48\\r\\nGuam,Oceania,171213,181200,105.83\\r\\nGuatemala,America,18467149,10750400,58.21\\r\\nGuernsey & Alderney,Europe,69878,55807,79.86\\r\\nGuinea,Africa,13734762,2551672,18.58\\r\\nGuinea-Bissau,Africa,2046008,900000,43.99\\r\\nGuyana,America,792695,576100,72.68\\r\\nHaiti,America,11631063,4070872,35.00\\r\\nHonduras,America,10165384,5546700,54.56\\r\\nHong Kong,Asia,7596249,6688549,88.05\\r\\nHungary,Europe,9620954,8588776,89.27\\r\\nIceland,Europe,344868,343400,99.57\\r\\nIndia,Asia,1402228175,833710000,59.46\\r\\nIndonesia,Asia,278268685,212354070,76.31\\r\\nIran,Middle East,85777708,78086663,91.03\\r\\nIraq,Middle East,41752172,31027400,74.31\\r\\nIreland,Europe,5028959,4626642,92.00\\r\\nIsrael,Middle East,8881612,7993450,90.00\\r\\nItaly,Europe,60318716,54798299,90.85\\r\\nJamaica,America,2982070,2027807,68.00\\r\\nJapan,Asia,127202192,118626672,93.26\\r\\nJersey,Europe,104817,87900,83.86\\r\\nJordan,Middle East,10370272,8700000,83.89\\r\\nKazakhstan,Asia,19146252,16465777,86.00\\r\\nKenya,Africa,55752020,46870422,84.07\\r\\nKiribati,Oceania,122510,61100,49.87\\r\\n\"Korea, North\",Asia,25961763,20000,0.08\\r\\n\"Korea, South\",Asia,51340112,49799909,97.00\\r\\nKosovo,Europe,1873366,1693942,90.42\\r\\nKuwait,Middle East,4375865,4332106,99.00\\r\\nKyrgystan,Asia,6703015,3683700,54.96\\r\\nLaos,Asia,7450212,4287200,57.54\\r\\nLatvia,Europe,1853288,1663739,89.77\\r\\nLebanon,Middle East,6776509,5692267,84.00\\r\\nLesotho,Africa,2169819,682990,31.48\\r\\nLiberia,Africa,5257162,784500,14.92\\r\\nLibya,Africa,7024811,6658900,94.79\\r\\nLiechtenstein,Europe,38306,38306,100.00\\r\\nLithuania,Europe,2662697,2603900,97.79\\r\\nLuxembourg,Europe,642995,636565,99.00\\r\\nMacao,Asia,663951,632175,95.21\\r\\nMadagascar,Africa,28427328,2864000,10.07\\r\\nMalawi,Africa,19647684,2717243,13.83\\r\\nMalaysia,Asia,33049551,30987000,93.76\\r\\nMaldives,Asia,556398,446300,80.21\\r\\nMali,Africa,20855735,12480176,59.84\\r\\nMalta,Europe,443991,478900,107.86\\r\\n\"Man, Isle of\",Europe,85768,71200,83.01\\r\\nMarshall Islands,Oceania,59846,25000,41.77\\r\\nMartinique,America,374799,303302,80.92\\r\\nMauritania,Africa,4775119,969519,20.30\\r\\nMauritius,Africa,1273433,919000,72.17\\r\\nMayotte (FR),Africa,279515,107940,38.62\\r\\nMexico,America,131249817,110400000,84.11\\r\\nMicronesia,Oceania,117042,56193,48.01\\r\\nMoldova,Europe,4018891,3067446,76.33\\r\\nMonaco,Europe,39698,38507,97.00\\r\\nMongolia,Asia,3365922,3001700,89.18\\r\\nMonserrat,America,4997,3400,68.04\\r\\nMontenegro,Europe,628194,547000,87.08\\r\\nMorocco,Africa,37344795,25589581,68.52\\r\\nMozambique,Africa,32163047,6523613,20.28\\r\\nMyanmar,Asia,55003362,28530000,51.87\\r\\nNamibia,Africa,2587344,1347418,52.08\\r\\nNauru,Oceania,10936,10200,93.27\\r\\nNepal,Asia,30013559,21900000,72.97\\r\\nNetherlands,Europe,17196401,16383879,95.28\\r\\nNew Caledonia,Oceania,290032,237826,82.00\\r\\nNew Zealand,Oceania,4886729,4561987,93.35\\r\\nNicaragua,America,6753914,4272300,63.26\\r\\nNiger,Africa,25130817,3363848,13.39\\r\\nNigeria,Africa,211400708,154301195,72.99\\r\\nNiue,Oceania,1644,1485,90.33\\r\\nNorfolk Island,Oceania,1748,800,45.77\\r\\nNorth Macedonia,Europe,2083236,1687421,81.00\\r\\nNorthern Marianas,Oceania,58122,45300,77.94\\r\\nNorway,Europe,5490867,5388956,98.14\\r\\nOman,Middle East,5328207,5061797,95.00\\r\\nPakistan,Asia,228062544,116000000,50.86\\r\\nPalau,Oceania,18235,18900,103.65\\r\\nPalestine,Middle East,5302778,3977083,75.00\\r\\nPanama,America,4427158,3411900,77.07\\r\\nPapau New Guinea,Oceania,9232613,1099945,11.91\\r\\nParaguay,America,7276583,6177748,84.90\\r\\nPeru,America,33729630,29601700,87.76\\r\\nPhilippines,Asia,111987776,101900000,90.99\\r\\nPoland,Europe,37921592,34697848,91.50\\r\\nPortugal,Europe,10148962,8945900,88.15\\r\\nPuerto Rico,America,2747603,3047311,110.91\\r\\nQatar,Middle East,2962541,3179400,107.32\\r\\nReunion (FR),Africa,901686,608000,67.43\\r\\nRomania,Europe,19033165,14845869,78.00\\r\\nRussia,Europe,146035672,124630000,85.34\\r\\nRwanda,Africa,13276513,5981638,45.05\\r\\nSaint Helena (UK),Africa,6086,2300,37.79\\r\\nSaint Lucia,America,184985,142970,77.29\\r\\nSamoa,Oceania,200578,141500,70.55\\r\\nSan Marino,Europe,34047,20428,60.00\\r\\nSao Tome & Principe,Africa,223368,63864,28.59\\r\\nSaudi Arabia,Middle East,35719422,35005034,98.00\\r\\nSenegal,Africa,17196301,9749527,56.70\\r\\nSerbia,Europe,8680974,6771160,78.00\\r\\nSeychelles,Africa,98908,71300,72.09\\r\\nSierra Leone,Africa,8141343,1043725,12.82\\r\\nSingapore,Asia,5925416,5451383,92.00\\r\\nSint Maarten (NL),America,43675,39100,89.52\\r\\nSlovakia,Europe,5463920,4917528,90.00\\r\\nSlovenia,Europe,2079400,1809078,87.00\\r\\nSolomon Islands,Oceania,715614,172400,24.09\\r\\nSomalia,Africa,16359504,2089900,12.77\\r\\nSouth Africa,Africa,60041994,34545165,57.54\\r\\nSouth Sudan,Africa,11381378,900716,7.91\\r\\nSpain,Europe,46784067,43509182,93.00\\r\\nSri Lanka,Asia,21558620,8879700,41.19\\r\\nSt. Barth\\xe9lemy (FR),America,9926,7079,71.32\\r\\nSt. Kitts & Nevis,America,53811,45800,85.11\\r\\nSt. Martin (FR),America,39761,19900,50.05\\r\\nSt. Pierre & Maquelon,America,5749,5200,90.45\\r\\nSt. Vincent & Grenadines,America,111508,91200,81.79\\r\\nSudan,Africa,44909353,13124100,29.22\\r\\nSuriname,America,595213,428200,71.94\\r\\nSvalbard & Jan Mayen,Europe,2379,2331,97.98\\r\\nSweden,Europe,10202368,9927075,97.30\\r\\nSwitzerland,Europe,8758482,8426800,96.21\\r\\nSyria,Middle East,18224180,8500000,46.64\\r\\nTaiwan,Asia,23886225,22639500,94.78\\r\\nTajikistan,Asia,9898203,3013256,30.44\\r\\nTanzania,Africa,61498437,23142960,37.63\\r\\nThailand,Asia,70082569,61900000,88.32\\r\\nTimor-Leste,Asia,1360401,515000,37.86\\r\\nTogo,Africa,8478250,1011837,11.93\\r\\nTokelau,Oceania,1385,800,57.76\\r\\nTonga,Oceania,107681,80100,74.39\\r\\nTrinidad & Tobago,America,1406800,1142200,81.19\\r\\nTunisia,Africa,11935766,8170000,68.45\\r\\nTurkey,Europe,85839173,72500000,84.46\\r\\nTurkmenistan,Asia,6177955,1562794,25.30\\r\\nTurks & Caicos,America,39581,37000,93.48\\r\\nTuvalu,Oceania,12034,6400,53.18\\r\\nUganda,Africa,47123531,18502166,39.26\\r\\nUkraine,Europe,43314442,40912381,94.45\\r\\nUnited Arab Emirates,Middle East,10088517,12176400,120.70\\r\\nUnited Kingdom,Europe,68468662,65045228,95.00\\r\\nUnited States,America,335226482,312320000,93.17\\r\\nUruguay,America,3493160,3261800,93.38\\r\\nUS Virgin Islands,America,104179,67540,64.83\\r\\nUzbekistan,Asia,34271815,17161534,50.07\\r\\nVanuatu,Oceania,319356,122900,38.48\\r\\nVatican City State,Europe,804,583,72.51\\r\\nVenezuela,America,28887118,22735000,78.70\\r\\nVietnam,Asia,98745016,84919500,86.00\\r\\nWallis & Futuna,Oceania,10932,6200,56.71\\r\\nWestern Sahara,Africa,611875,28000,4.58\\r\\nYemen,Middle East,30938435,8353377,27.00\\r\\nZambia,Africa,18920651,9870427,52.17\\r\\nZimbabwe,Africa,15092171,8400000,55.66\\r\\n'}"
            ]
          },
          "metadata": {},
          "execution_count": 2
        }
      ],
      "source": [
        "from google.colab import files\n",
        "files.upload()"
      ]
    },
    {
      "cell_type": "code",
      "source": [
        "#importing wanted packages\n",
        "import pandas as pd\n",
        "import numpy as np\n",
        "import matplotlib.pyplot as plt\n",
        "import seaborn as sns"
      ],
      "metadata": {
        "id": "JhfE12LcyS99"
      },
      "execution_count": null,
      "outputs": []
    },
    {
      "cell_type": "code",
      "source": [
        "#reading dataset\n",
        "data=pd.read_csv(\"world_internet_user.csv\",encoding = 'unicode_escape', engine ='python')\n",
        "data"
      ],
      "metadata": {
        "colab": {
          "base_uri": "https://localhost:8080/",
          "height": 424
        },
        "id": "aRRuO6STy9Rl",
        "outputId": "a3776c37-01c2-419d-cc15-aec50670a572"
      },
      "execution_count": null,
      "outputs": [
        {
          "output_type": "execute_result",
          "data": {
            "text/plain": [
              "             Country       Region  Population  Internet Users  % of Population\n",
              "0             _World          NaN  7920539977      5424080321            68.48\n",
              "1         Afganistan         Asia    40403518         9237489            22.86\n",
              "2            Albania       Europe     2872758         2191467            76.28\n",
              "3            Algeria       Africa    45150879        37836425            83.80\n",
              "4     American Samoa      Oceania       54995           34800            63.28\n",
              "..               ...          ...         ...             ...              ...\n",
              "238  Wallis & Futuna      Oceania       10932            6200            56.71\n",
              "239   Western Sahara       Africa      611875           28000             4.58\n",
              "240            Yemen  Middle East    30938435         8353377            27.00\n",
              "241           Zambia       Africa    18920651         9870427            52.17\n",
              "242         Zimbabwe       Africa    15092171         8400000            55.66\n",
              "\n",
              "[243 rows x 5 columns]"
            ],
            "text/html": [
              "\n",
              "  <div id=\"df-6dda69d4-7cdb-4e1b-a4d5-bdd5d28318fd\">\n",
              "    <div class=\"colab-df-container\">\n",
              "      <div>\n",
              "<style scoped>\n",
              "    .dataframe tbody tr th:only-of-type {\n",
              "        vertical-align: middle;\n",
              "    }\n",
              "\n",
              "    .dataframe tbody tr th {\n",
              "        vertical-align: top;\n",
              "    }\n",
              "\n",
              "    .dataframe thead th {\n",
              "        text-align: right;\n",
              "    }\n",
              "</style>\n",
              "<table border=\"1\" class=\"dataframe\">\n",
              "  <thead>\n",
              "    <tr style=\"text-align: right;\">\n",
              "      <th></th>\n",
              "      <th>Country</th>\n",
              "      <th>Region</th>\n",
              "      <th>Population</th>\n",
              "      <th>Internet Users</th>\n",
              "      <th>% of Population</th>\n",
              "    </tr>\n",
              "  </thead>\n",
              "  <tbody>\n",
              "    <tr>\n",
              "      <th>0</th>\n",
              "      <td>_World</td>\n",
              "      <td>NaN</td>\n",
              "      <td>7920539977</td>\n",
              "      <td>5424080321</td>\n",
              "      <td>68.48</td>\n",
              "    </tr>\n",
              "    <tr>\n",
              "      <th>1</th>\n",
              "      <td>Afganistan</td>\n",
              "      <td>Asia</td>\n",
              "      <td>40403518</td>\n",
              "      <td>9237489</td>\n",
              "      <td>22.86</td>\n",
              "    </tr>\n",
              "    <tr>\n",
              "      <th>2</th>\n",
              "      <td>Albania</td>\n",
              "      <td>Europe</td>\n",
              "      <td>2872758</td>\n",
              "      <td>2191467</td>\n",
              "      <td>76.28</td>\n",
              "    </tr>\n",
              "    <tr>\n",
              "      <th>3</th>\n",
              "      <td>Algeria</td>\n",
              "      <td>Africa</td>\n",
              "      <td>45150879</td>\n",
              "      <td>37836425</td>\n",
              "      <td>83.80</td>\n",
              "    </tr>\n",
              "    <tr>\n",
              "      <th>4</th>\n",
              "      <td>American Samoa</td>\n",
              "      <td>Oceania</td>\n",
              "      <td>54995</td>\n",
              "      <td>34800</td>\n",
              "      <td>63.28</td>\n",
              "    </tr>\n",
              "    <tr>\n",
              "      <th>...</th>\n",
              "      <td>...</td>\n",
              "      <td>...</td>\n",
              "      <td>...</td>\n",
              "      <td>...</td>\n",
              "      <td>...</td>\n",
              "    </tr>\n",
              "    <tr>\n",
              "      <th>238</th>\n",
              "      <td>Wallis &amp; Futuna</td>\n",
              "      <td>Oceania</td>\n",
              "      <td>10932</td>\n",
              "      <td>6200</td>\n",
              "      <td>56.71</td>\n",
              "    </tr>\n",
              "    <tr>\n",
              "      <th>239</th>\n",
              "      <td>Western Sahara</td>\n",
              "      <td>Africa</td>\n",
              "      <td>611875</td>\n",
              "      <td>28000</td>\n",
              "      <td>4.58</td>\n",
              "    </tr>\n",
              "    <tr>\n",
              "      <th>240</th>\n",
              "      <td>Yemen</td>\n",
              "      <td>Middle East</td>\n",
              "      <td>30938435</td>\n",
              "      <td>8353377</td>\n",
              "      <td>27.00</td>\n",
              "    </tr>\n",
              "    <tr>\n",
              "      <th>241</th>\n",
              "      <td>Zambia</td>\n",
              "      <td>Africa</td>\n",
              "      <td>18920651</td>\n",
              "      <td>9870427</td>\n",
              "      <td>52.17</td>\n",
              "    </tr>\n",
              "    <tr>\n",
              "      <th>242</th>\n",
              "      <td>Zimbabwe</td>\n",
              "      <td>Africa</td>\n",
              "      <td>15092171</td>\n",
              "      <td>8400000</td>\n",
              "      <td>55.66</td>\n",
              "    </tr>\n",
              "  </tbody>\n",
              "</table>\n",
              "<p>243 rows × 5 columns</p>\n",
              "</div>\n",
              "      <button class=\"colab-df-convert\" onclick=\"convertToInteractive('df-6dda69d4-7cdb-4e1b-a4d5-bdd5d28318fd')\"\n",
              "              title=\"Convert this dataframe to an interactive table.\"\n",
              "              style=\"display:none;\">\n",
              "        \n",
              "  <svg xmlns=\"http://www.w3.org/2000/svg\" height=\"24px\"viewBox=\"0 0 24 24\"\n",
              "       width=\"24px\">\n",
              "    <path d=\"M0 0h24v24H0V0z\" fill=\"none\"/>\n",
              "    <path d=\"M18.56 5.44l.94 2.06.94-2.06 2.06-.94-2.06-.94-.94-2.06-.94 2.06-2.06.94zm-11 1L8.5 8.5l.94-2.06 2.06-.94-2.06-.94L8.5 2.5l-.94 2.06-2.06.94zm10 10l.94 2.06.94-2.06 2.06-.94-2.06-.94-.94-2.06-.94 2.06-2.06.94z\"/><path d=\"M17.41 7.96l-1.37-1.37c-.4-.4-.92-.59-1.43-.59-.52 0-1.04.2-1.43.59L10.3 9.45l-7.72 7.72c-.78.78-.78 2.05 0 2.83L4 21.41c.39.39.9.59 1.41.59.51 0 1.02-.2 1.41-.59l7.78-7.78 2.81-2.81c.8-.78.8-2.07 0-2.86zM5.41 20L4 18.59l7.72-7.72 1.47 1.35L5.41 20z\"/>\n",
              "  </svg>\n",
              "      </button>\n",
              "      \n",
              "  <style>\n",
              "    .colab-df-container {\n",
              "      display:flex;\n",
              "      flex-wrap:wrap;\n",
              "      gap: 12px;\n",
              "    }\n",
              "\n",
              "    .colab-df-convert {\n",
              "      background-color: #E8F0FE;\n",
              "      border: none;\n",
              "      border-radius: 50%;\n",
              "      cursor: pointer;\n",
              "      display: none;\n",
              "      fill: #1967D2;\n",
              "      height: 32px;\n",
              "      padding: 0 0 0 0;\n",
              "      width: 32px;\n",
              "    }\n",
              "\n",
              "    .colab-df-convert:hover {\n",
              "      background-color: #E2EBFA;\n",
              "      box-shadow: 0px 1px 2px rgba(60, 64, 67, 0.3), 0px 1px 3px 1px rgba(60, 64, 67, 0.15);\n",
              "      fill: #174EA6;\n",
              "    }\n",
              "\n",
              "    [theme=dark] .colab-df-convert {\n",
              "      background-color: #3B4455;\n",
              "      fill: #D2E3FC;\n",
              "    }\n",
              "\n",
              "    [theme=dark] .colab-df-convert:hover {\n",
              "      background-color: #434B5C;\n",
              "      box-shadow: 0px 1px 3px 1px rgba(0, 0, 0, 0.15);\n",
              "      filter: drop-shadow(0px 1px 2px rgba(0, 0, 0, 0.3));\n",
              "      fill: #FFFFFF;\n",
              "    }\n",
              "  </style>\n",
              "\n",
              "      <script>\n",
              "        const buttonEl =\n",
              "          document.querySelector('#df-6dda69d4-7cdb-4e1b-a4d5-bdd5d28318fd button.colab-df-convert');\n",
              "        buttonEl.style.display =\n",
              "          google.colab.kernel.accessAllowed ? 'block' : 'none';\n",
              "\n",
              "        async function convertToInteractive(key) {\n",
              "          const element = document.querySelector('#df-6dda69d4-7cdb-4e1b-a4d5-bdd5d28318fd');\n",
              "          const dataTable =\n",
              "            await google.colab.kernel.invokeFunction('convertToInteractive',\n",
              "                                                     [key], {});\n",
              "          if (!dataTable) return;\n",
              "\n",
              "          const docLinkHtml = 'Like what you see? Visit the ' +\n",
              "            '<a target=\"_blank\" href=https://colab.research.google.com/notebooks/data_table.ipynb>data table notebook</a>'\n",
              "            + ' to learn more about interactive tables.';\n",
              "          element.innerHTML = '';\n",
              "          dataTable['output_type'] = 'display_data';\n",
              "          await google.colab.output.renderOutput(dataTable, element);\n",
              "          const docLink = document.createElement('div');\n",
              "          docLink.innerHTML = docLinkHtml;\n",
              "          element.appendChild(docLink);\n",
              "        }\n",
              "      </script>\n",
              "    </div>\n",
              "  </div>\n",
              "  "
            ]
          },
          "metadata": {},
          "execution_count": 10
        }
      ]
    },
    {
      "cell_type": "markdown",
      "source": [
        "Data Exploartion"
      ],
      "metadata": {
        "id": "044HlC738N2R"
      }
    },
    {
      "cell_type": "code",
      "source": [
        "data.info()"
      ],
      "metadata": {
        "colab": {
          "base_uri": "https://localhost:8080/"
        },
        "id": "WDa2ndGn8P46",
        "outputId": "94ea4cdd-add1-4f90-f89b-e5f0e6f71e56"
      },
      "execution_count": null,
      "outputs": [
        {
          "output_type": "stream",
          "name": "stdout",
          "text": [
            "<class 'pandas.core.frame.DataFrame'>\n",
            "RangeIndex: 243 entries, 0 to 242\n",
            "Data columns (total 5 columns):\n",
            " #   Column           Non-Null Count  Dtype  \n",
            "---  ------           --------------  -----  \n",
            " 0   Country          243 non-null    object \n",
            " 1   Region           242 non-null    object \n",
            " 2   Population       243 non-null    int64  \n",
            " 3   Internet Users   243 non-null    int64  \n",
            " 4   % of Population  243 non-null    float64\n",
            "dtypes: float64(1), int64(2), object(2)\n",
            "memory usage: 9.6+ KB\n"
          ]
        }
      ]
    },
    {
      "cell_type": "code",
      "source": [
        "data.columns"
      ],
      "metadata": {
        "colab": {
          "base_uri": "https://localhost:8080/"
        },
        "id": "t9Q6IJ3szF1A",
        "outputId": "59817265-8078-4e8b-fefe-73d4e3bb8f2e"
      },
      "execution_count": null,
      "outputs": [
        {
          "output_type": "execute_result",
          "data": {
            "text/plain": [
              "Index(['Country', 'Region', 'Population', 'Internet Users', '% of Population'], dtype='object')"
            ]
          },
          "metadata": {},
          "execution_count": 4
        }
      ]
    },
    {
      "cell_type": "code",
      "source": [
        "data.isnull().sum()"
      ],
      "metadata": {
        "colab": {
          "base_uri": "https://localhost:8080/"
        },
        "id": "jR0QJfak8UXL",
        "outputId": "adf8156e-29eb-45c0-9069-ecee2cddeb33"
      },
      "execution_count": null,
      "outputs": [
        {
          "output_type": "execute_result",
          "data": {
            "text/plain": [
              "Country            0\n",
              "Region             1\n",
              "Population         0\n",
              "Internet Users     0\n",
              "% of Population    0\n",
              "dtype: int64"
            ]
          },
          "metadata": {},
          "execution_count": 6
        }
      ]
    },
    {
      "cell_type": "code",
      "source": [
        "data.describe"
      ],
      "metadata": {
        "colab": {
          "base_uri": "https://localhost:8080/"
        },
        "id": "SY8haTJs8VpX",
        "outputId": "fcee3078-7212-4b13-f2fa-af2fc3cab294"
      },
      "execution_count": null,
      "outputs": [
        {
          "output_type": "execute_result",
          "data": {
            "text/plain": [
              "<bound method NDFrame.describe of              Country       Region  Population  Internet Users  % of Population\n",
              "1         Afganistan         Asia    40403518         9237489            22.86\n",
              "2            Albania       Europe     2872758         2191467            76.28\n",
              "3            Algeria       Africa    45150879        37836425            83.80\n",
              "4     American Samoa      Oceania       54995           34800            63.28\n",
              "5            Andorra       Europe       77465           73101            94.37\n",
              "..               ...          ...         ...             ...              ...\n",
              "238  Wallis & Futuna      Oceania       10932            6200            56.71\n",
              "239   Western Sahara       Africa      611875           28000             4.58\n",
              "240            Yemen  Middle East    30938435         8353377            27.00\n",
              "241           Zambia       Africa    18920651         9870427            52.17\n",
              "242         Zimbabwe       Africa    15092171         8400000            55.66\n",
              "\n",
              "[242 rows x 5 columns]>"
            ]
          },
          "metadata": {},
          "execution_count": 9
        }
      ]
    },
    {
      "cell_type": "markdown",
      "source": [
        "Data Preprocessing"
      ],
      "metadata": {
        "id": "M0W9VCV58ZDV"
      }
    },
    {
      "cell_type": "code",
      "source": [
        "data.fillna(0)"
      ],
      "metadata": {
        "colab": {
          "base_uri": "https://localhost:8080/",
          "height": 424
        },
        "id": "4YclXjRG6D6i",
        "outputId": "86bd9abb-71dc-4822-c9fc-5c3260a560c3"
      },
      "execution_count": null,
      "outputs": [
        {
          "output_type": "execute_result",
          "data": {
            "text/plain": [
              "             Country       Region  Population  Internet Users  % of Population\n",
              "0             _World            0  7920539977      5424080321            68.48\n",
              "1         Afganistan         Asia    40403518         9237489            22.86\n",
              "2            Albania       Europe     2872758         2191467            76.28\n",
              "3            Algeria       Africa    45150879        37836425            83.80\n",
              "4     American Samoa      Oceania       54995           34800            63.28\n",
              "..               ...          ...         ...             ...              ...\n",
              "238  Wallis & Futuna      Oceania       10932            6200            56.71\n",
              "239   Western Sahara       Africa      611875           28000             4.58\n",
              "240            Yemen  Middle East    30938435         8353377            27.00\n",
              "241           Zambia       Africa    18920651         9870427            52.17\n",
              "242         Zimbabwe       Africa    15092171         8400000            55.66\n",
              "\n",
              "[243 rows x 5 columns]"
            ],
            "text/html": [
              "\n",
              "  <div id=\"df-d89882cc-a699-4030-9c4d-fb920cfaee34\">\n",
              "    <div class=\"colab-df-container\">\n",
              "      <div>\n",
              "<style scoped>\n",
              "    .dataframe tbody tr th:only-of-type {\n",
              "        vertical-align: middle;\n",
              "    }\n",
              "\n",
              "    .dataframe tbody tr th {\n",
              "        vertical-align: top;\n",
              "    }\n",
              "\n",
              "    .dataframe thead th {\n",
              "        text-align: right;\n",
              "    }\n",
              "</style>\n",
              "<table border=\"1\" class=\"dataframe\">\n",
              "  <thead>\n",
              "    <tr style=\"text-align: right;\">\n",
              "      <th></th>\n",
              "      <th>Country</th>\n",
              "      <th>Region</th>\n",
              "      <th>Population</th>\n",
              "      <th>Internet Users</th>\n",
              "      <th>% of Population</th>\n",
              "    </tr>\n",
              "  </thead>\n",
              "  <tbody>\n",
              "    <tr>\n",
              "      <th>0</th>\n",
              "      <td>_World</td>\n",
              "      <td>0</td>\n",
              "      <td>7920539977</td>\n",
              "      <td>5424080321</td>\n",
              "      <td>68.48</td>\n",
              "    </tr>\n",
              "    <tr>\n",
              "      <th>1</th>\n",
              "      <td>Afganistan</td>\n",
              "      <td>Asia</td>\n",
              "      <td>40403518</td>\n",
              "      <td>9237489</td>\n",
              "      <td>22.86</td>\n",
              "    </tr>\n",
              "    <tr>\n",
              "      <th>2</th>\n",
              "      <td>Albania</td>\n",
              "      <td>Europe</td>\n",
              "      <td>2872758</td>\n",
              "      <td>2191467</td>\n",
              "      <td>76.28</td>\n",
              "    </tr>\n",
              "    <tr>\n",
              "      <th>3</th>\n",
              "      <td>Algeria</td>\n",
              "      <td>Africa</td>\n",
              "      <td>45150879</td>\n",
              "      <td>37836425</td>\n",
              "      <td>83.80</td>\n",
              "    </tr>\n",
              "    <tr>\n",
              "      <th>4</th>\n",
              "      <td>American Samoa</td>\n",
              "      <td>Oceania</td>\n",
              "      <td>54995</td>\n",
              "      <td>34800</td>\n",
              "      <td>63.28</td>\n",
              "    </tr>\n",
              "    <tr>\n",
              "      <th>...</th>\n",
              "      <td>...</td>\n",
              "      <td>...</td>\n",
              "      <td>...</td>\n",
              "      <td>...</td>\n",
              "      <td>...</td>\n",
              "    </tr>\n",
              "    <tr>\n",
              "      <th>238</th>\n",
              "      <td>Wallis &amp; Futuna</td>\n",
              "      <td>Oceania</td>\n",
              "      <td>10932</td>\n",
              "      <td>6200</td>\n",
              "      <td>56.71</td>\n",
              "    </tr>\n",
              "    <tr>\n",
              "      <th>239</th>\n",
              "      <td>Western Sahara</td>\n",
              "      <td>Africa</td>\n",
              "      <td>611875</td>\n",
              "      <td>28000</td>\n",
              "      <td>4.58</td>\n",
              "    </tr>\n",
              "    <tr>\n",
              "      <th>240</th>\n",
              "      <td>Yemen</td>\n",
              "      <td>Middle East</td>\n",
              "      <td>30938435</td>\n",
              "      <td>8353377</td>\n",
              "      <td>27.00</td>\n",
              "    </tr>\n",
              "    <tr>\n",
              "      <th>241</th>\n",
              "      <td>Zambia</td>\n",
              "      <td>Africa</td>\n",
              "      <td>18920651</td>\n",
              "      <td>9870427</td>\n",
              "      <td>52.17</td>\n",
              "    </tr>\n",
              "    <tr>\n",
              "      <th>242</th>\n",
              "      <td>Zimbabwe</td>\n",
              "      <td>Africa</td>\n",
              "      <td>15092171</td>\n",
              "      <td>8400000</td>\n",
              "      <td>55.66</td>\n",
              "    </tr>\n",
              "  </tbody>\n",
              "</table>\n",
              "<p>243 rows × 5 columns</p>\n",
              "</div>\n",
              "      <button class=\"colab-df-convert\" onclick=\"convertToInteractive('df-d89882cc-a699-4030-9c4d-fb920cfaee34')\"\n",
              "              title=\"Convert this dataframe to an interactive table.\"\n",
              "              style=\"display:none;\">\n",
              "        \n",
              "  <svg xmlns=\"http://www.w3.org/2000/svg\" height=\"24px\"viewBox=\"0 0 24 24\"\n",
              "       width=\"24px\">\n",
              "    <path d=\"M0 0h24v24H0V0z\" fill=\"none\"/>\n",
              "    <path d=\"M18.56 5.44l.94 2.06.94-2.06 2.06-.94-2.06-.94-.94-2.06-.94 2.06-2.06.94zm-11 1L8.5 8.5l.94-2.06 2.06-.94-2.06-.94L8.5 2.5l-.94 2.06-2.06.94zm10 10l.94 2.06.94-2.06 2.06-.94-2.06-.94-.94-2.06-.94 2.06-2.06.94z\"/><path d=\"M17.41 7.96l-1.37-1.37c-.4-.4-.92-.59-1.43-.59-.52 0-1.04.2-1.43.59L10.3 9.45l-7.72 7.72c-.78.78-.78 2.05 0 2.83L4 21.41c.39.39.9.59 1.41.59.51 0 1.02-.2 1.41-.59l7.78-7.78 2.81-2.81c.8-.78.8-2.07 0-2.86zM5.41 20L4 18.59l7.72-7.72 1.47 1.35L5.41 20z\"/>\n",
              "  </svg>\n",
              "      </button>\n",
              "      \n",
              "  <style>\n",
              "    .colab-df-container {\n",
              "      display:flex;\n",
              "      flex-wrap:wrap;\n",
              "      gap: 12px;\n",
              "    }\n",
              "\n",
              "    .colab-df-convert {\n",
              "      background-color: #E8F0FE;\n",
              "      border: none;\n",
              "      border-radius: 50%;\n",
              "      cursor: pointer;\n",
              "      display: none;\n",
              "      fill: #1967D2;\n",
              "      height: 32px;\n",
              "      padding: 0 0 0 0;\n",
              "      width: 32px;\n",
              "    }\n",
              "\n",
              "    .colab-df-convert:hover {\n",
              "      background-color: #E2EBFA;\n",
              "      box-shadow: 0px 1px 2px rgba(60, 64, 67, 0.3), 0px 1px 3px 1px rgba(60, 64, 67, 0.15);\n",
              "      fill: #174EA6;\n",
              "    }\n",
              "\n",
              "    [theme=dark] .colab-df-convert {\n",
              "      background-color: #3B4455;\n",
              "      fill: #D2E3FC;\n",
              "    }\n",
              "\n",
              "    [theme=dark] .colab-df-convert:hover {\n",
              "      background-color: #434B5C;\n",
              "      box-shadow: 0px 1px 3px 1px rgba(0, 0, 0, 0.15);\n",
              "      filter: drop-shadow(0px 1px 2px rgba(0, 0, 0, 0.3));\n",
              "      fill: #FFFFFF;\n",
              "    }\n",
              "  </style>\n",
              "\n",
              "      <script>\n",
              "        const buttonEl =\n",
              "          document.querySelector('#df-d89882cc-a699-4030-9c4d-fb920cfaee34 button.colab-df-convert');\n",
              "        buttonEl.style.display =\n",
              "          google.colab.kernel.accessAllowed ? 'block' : 'none';\n",
              "\n",
              "        async function convertToInteractive(key) {\n",
              "          const element = document.querySelector('#df-d89882cc-a699-4030-9c4d-fb920cfaee34');\n",
              "          const dataTable =\n",
              "            await google.colab.kernel.invokeFunction('convertToInteractive',\n",
              "                                                     [key], {});\n",
              "          if (!dataTable) return;\n",
              "\n",
              "          const docLinkHtml = 'Like what you see? Visit the ' +\n",
              "            '<a target=\"_blank\" href=https://colab.research.google.com/notebooks/data_table.ipynb>data table notebook</a>'\n",
              "            + ' to learn more about interactive tables.';\n",
              "          element.innerHTML = '';\n",
              "          dataTable['output_type'] = 'display_data';\n",
              "          await google.colab.output.renderOutput(dataTable, element);\n",
              "          const docLink = document.createElement('div');\n",
              "          docLink.innerHTML = docLinkHtml;\n",
              "          element.appendChild(docLink);\n",
              "        }\n",
              "      </script>\n",
              "    </div>\n",
              "  </div>\n",
              "  "
            ]
          },
          "metadata": {},
          "execution_count": 11
        }
      ]
    },
    {
      "cell_type": "code",
      "source": [
        "#changing the column names into correct format\n",
        "data= data.rename({'Internet Users': 'Internet_Users', '% of Population':'Population_Percentage'}, axis=1)"
      ],
      "metadata": {
        "id": "ypNHGza98mVE"
      },
      "execution_count": null,
      "outputs": []
    },
    {
      "cell_type": "code",
      "source": [
        "#dropping unwanted row\n",
        "data.drop(index=0,inplace=True)"
      ],
      "metadata": {
        "id": "_ayG--MU-ED9"
      },
      "execution_count": null,
      "outputs": []
    },
    {
      "cell_type": "markdown",
      "source": [
        "1. Which country uses internet most"
      ],
      "metadata": {
        "id": "QkrgPbK_mE9Q"
      }
    },
    {
      "cell_type": "code",
      "source": [
        "# we can use two methods to find out the value\n",
        "data[data['Internet_Users'] == data['Internet_Users'].max()]"
      ],
      "metadata": {
        "colab": {
          "base_uri": "https://localhost:8080/",
          "height": 81
        },
        "id": "ZMJM2tUM9KTm",
        "outputId": "973216a8-0462-4f15-8fe0-49249b800e6a"
      },
      "execution_count": null,
      "outputs": [
        {
          "output_type": "execute_result",
          "data": {
            "text/plain": [
              "   Country Region  Population  Internet_Users  Population_Percentage\n",
              "44   China   Asia  1448314408      1010740000                  69.79"
            ],
            "text/html": [
              "\n",
              "  <div id=\"df-30a5922e-19f5-4215-a6ff-31b6474a7f6c\">\n",
              "    <div class=\"colab-df-container\">\n",
              "      <div>\n",
              "<style scoped>\n",
              "    .dataframe tbody tr th:only-of-type {\n",
              "        vertical-align: middle;\n",
              "    }\n",
              "\n",
              "    .dataframe tbody tr th {\n",
              "        vertical-align: top;\n",
              "    }\n",
              "\n",
              "    .dataframe thead th {\n",
              "        text-align: right;\n",
              "    }\n",
              "</style>\n",
              "<table border=\"1\" class=\"dataframe\">\n",
              "  <thead>\n",
              "    <tr style=\"text-align: right;\">\n",
              "      <th></th>\n",
              "      <th>Country</th>\n",
              "      <th>Region</th>\n",
              "      <th>Population</th>\n",
              "      <th>Internet_Users</th>\n",
              "      <th>Population_Percentage</th>\n",
              "    </tr>\n",
              "  </thead>\n",
              "  <tbody>\n",
              "    <tr>\n",
              "      <th>44</th>\n",
              "      <td>China</td>\n",
              "      <td>Asia</td>\n",
              "      <td>1448314408</td>\n",
              "      <td>1010740000</td>\n",
              "      <td>69.79</td>\n",
              "    </tr>\n",
              "  </tbody>\n",
              "</table>\n",
              "</div>\n",
              "      <button class=\"colab-df-convert\" onclick=\"convertToInteractive('df-30a5922e-19f5-4215-a6ff-31b6474a7f6c')\"\n",
              "              title=\"Convert this dataframe to an interactive table.\"\n",
              "              style=\"display:none;\">\n",
              "        \n",
              "  <svg xmlns=\"http://www.w3.org/2000/svg\" height=\"24px\"viewBox=\"0 0 24 24\"\n",
              "       width=\"24px\">\n",
              "    <path d=\"M0 0h24v24H0V0z\" fill=\"none\"/>\n",
              "    <path d=\"M18.56 5.44l.94 2.06.94-2.06 2.06-.94-2.06-.94-.94-2.06-.94 2.06-2.06.94zm-11 1L8.5 8.5l.94-2.06 2.06-.94-2.06-.94L8.5 2.5l-.94 2.06-2.06.94zm10 10l.94 2.06.94-2.06 2.06-.94-2.06-.94-.94-2.06-.94 2.06-2.06.94z\"/><path d=\"M17.41 7.96l-1.37-1.37c-.4-.4-.92-.59-1.43-.59-.52 0-1.04.2-1.43.59L10.3 9.45l-7.72 7.72c-.78.78-.78 2.05 0 2.83L4 21.41c.39.39.9.59 1.41.59.51 0 1.02-.2 1.41-.59l7.78-7.78 2.81-2.81c.8-.78.8-2.07 0-2.86zM5.41 20L4 18.59l7.72-7.72 1.47 1.35L5.41 20z\"/>\n",
              "  </svg>\n",
              "      </button>\n",
              "      \n",
              "  <style>\n",
              "    .colab-df-container {\n",
              "      display:flex;\n",
              "      flex-wrap:wrap;\n",
              "      gap: 12px;\n",
              "    }\n",
              "\n",
              "    .colab-df-convert {\n",
              "      background-color: #E8F0FE;\n",
              "      border: none;\n",
              "      border-radius: 50%;\n",
              "      cursor: pointer;\n",
              "      display: none;\n",
              "      fill: #1967D2;\n",
              "      height: 32px;\n",
              "      padding: 0 0 0 0;\n",
              "      width: 32px;\n",
              "    }\n",
              "\n",
              "    .colab-df-convert:hover {\n",
              "      background-color: #E2EBFA;\n",
              "      box-shadow: 0px 1px 2px rgba(60, 64, 67, 0.3), 0px 1px 3px 1px rgba(60, 64, 67, 0.15);\n",
              "      fill: #174EA6;\n",
              "    }\n",
              "\n",
              "    [theme=dark] .colab-df-convert {\n",
              "      background-color: #3B4455;\n",
              "      fill: #D2E3FC;\n",
              "    }\n",
              "\n",
              "    [theme=dark] .colab-df-convert:hover {\n",
              "      background-color: #434B5C;\n",
              "      box-shadow: 0px 1px 3px 1px rgba(0, 0, 0, 0.15);\n",
              "      filter: drop-shadow(0px 1px 2px rgba(0, 0, 0, 0.3));\n",
              "      fill: #FFFFFF;\n",
              "    }\n",
              "  </style>\n",
              "\n",
              "      <script>\n",
              "        const buttonEl =\n",
              "          document.querySelector('#df-30a5922e-19f5-4215-a6ff-31b6474a7f6c button.colab-df-convert');\n",
              "        buttonEl.style.display =\n",
              "          google.colab.kernel.accessAllowed ? 'block' : 'none';\n",
              "\n",
              "        async function convertToInteractive(key) {\n",
              "          const element = document.querySelector('#df-30a5922e-19f5-4215-a6ff-31b6474a7f6c');\n",
              "          const dataTable =\n",
              "            await google.colab.kernel.invokeFunction('convertToInteractive',\n",
              "                                                     [key], {});\n",
              "          if (!dataTable) return;\n",
              "\n",
              "          const docLinkHtml = 'Like what you see? Visit the ' +\n",
              "            '<a target=\"_blank\" href=https://colab.research.google.com/notebooks/data_table.ipynb>data table notebook</a>'\n",
              "            + ' to learn more about interactive tables.';\n",
              "          element.innerHTML = '';\n",
              "          dataTable['output_type'] = 'display_data';\n",
              "          await google.colab.output.renderOutput(dataTable, element);\n",
              "          const docLink = document.createElement('div');\n",
              "          docLink.innerHTML = docLinkHtml;\n",
              "          element.appendChild(docLink);\n",
              "        }\n",
              "      </script>\n",
              "    </div>\n",
              "  </div>\n",
              "  "
            ]
          },
          "metadata": {},
          "execution_count": 24
        }
      ]
    },
    {
      "cell_type": "code",
      "source": [
        "#2nd method\n",
        "data.sort_values(by=['Internet_Users'],ascending=False).head(1)"
      ],
      "metadata": {
        "id": "s1vt88zPz5b2",
        "colab": {
          "base_uri": "https://localhost:8080/",
          "height": 81
        },
        "outputId": "4f966211-842f-4a4f-8fa3-4b903b37d0d9"
      },
      "execution_count": null,
      "outputs": [
        {
          "output_type": "execute_result",
          "data": {
            "text/plain": [
              "   Country Region  Population  Internet_Users  Population_Percentage\n",
              "44   China   Asia  1448314408      1010740000                  69.79"
            ],
            "text/html": [
              "\n",
              "  <div id=\"df-d55bb7f7-d443-4749-bb32-53de6d1b1678\">\n",
              "    <div class=\"colab-df-container\">\n",
              "      <div>\n",
              "<style scoped>\n",
              "    .dataframe tbody tr th:only-of-type {\n",
              "        vertical-align: middle;\n",
              "    }\n",
              "\n",
              "    .dataframe tbody tr th {\n",
              "        vertical-align: top;\n",
              "    }\n",
              "\n",
              "    .dataframe thead th {\n",
              "        text-align: right;\n",
              "    }\n",
              "</style>\n",
              "<table border=\"1\" class=\"dataframe\">\n",
              "  <thead>\n",
              "    <tr style=\"text-align: right;\">\n",
              "      <th></th>\n",
              "      <th>Country</th>\n",
              "      <th>Region</th>\n",
              "      <th>Population</th>\n",
              "      <th>Internet_Users</th>\n",
              "      <th>Population_Percentage</th>\n",
              "    </tr>\n",
              "  </thead>\n",
              "  <tbody>\n",
              "    <tr>\n",
              "      <th>44</th>\n",
              "      <td>China</td>\n",
              "      <td>Asia</td>\n",
              "      <td>1448314408</td>\n",
              "      <td>1010740000</td>\n",
              "      <td>69.79</td>\n",
              "    </tr>\n",
              "  </tbody>\n",
              "</table>\n",
              "</div>\n",
              "      <button class=\"colab-df-convert\" onclick=\"convertToInteractive('df-d55bb7f7-d443-4749-bb32-53de6d1b1678')\"\n",
              "              title=\"Convert this dataframe to an interactive table.\"\n",
              "              style=\"display:none;\">\n",
              "        \n",
              "  <svg xmlns=\"http://www.w3.org/2000/svg\" height=\"24px\"viewBox=\"0 0 24 24\"\n",
              "       width=\"24px\">\n",
              "    <path d=\"M0 0h24v24H0V0z\" fill=\"none\"/>\n",
              "    <path d=\"M18.56 5.44l.94 2.06.94-2.06 2.06-.94-2.06-.94-.94-2.06-.94 2.06-2.06.94zm-11 1L8.5 8.5l.94-2.06 2.06-.94-2.06-.94L8.5 2.5l-.94 2.06-2.06.94zm10 10l.94 2.06.94-2.06 2.06-.94-2.06-.94-.94-2.06-.94 2.06-2.06.94z\"/><path d=\"M17.41 7.96l-1.37-1.37c-.4-.4-.92-.59-1.43-.59-.52 0-1.04.2-1.43.59L10.3 9.45l-7.72 7.72c-.78.78-.78 2.05 0 2.83L4 21.41c.39.39.9.59 1.41.59.51 0 1.02-.2 1.41-.59l7.78-7.78 2.81-2.81c.8-.78.8-2.07 0-2.86zM5.41 20L4 18.59l7.72-7.72 1.47 1.35L5.41 20z\"/>\n",
              "  </svg>\n",
              "      </button>\n",
              "      \n",
              "  <style>\n",
              "    .colab-df-container {\n",
              "      display:flex;\n",
              "      flex-wrap:wrap;\n",
              "      gap: 12px;\n",
              "    }\n",
              "\n",
              "    .colab-df-convert {\n",
              "      background-color: #E8F0FE;\n",
              "      border: none;\n",
              "      border-radius: 50%;\n",
              "      cursor: pointer;\n",
              "      display: none;\n",
              "      fill: #1967D2;\n",
              "      height: 32px;\n",
              "      padding: 0 0 0 0;\n",
              "      width: 32px;\n",
              "    }\n",
              "\n",
              "    .colab-df-convert:hover {\n",
              "      background-color: #E2EBFA;\n",
              "      box-shadow: 0px 1px 2px rgba(60, 64, 67, 0.3), 0px 1px 3px 1px rgba(60, 64, 67, 0.15);\n",
              "      fill: #174EA6;\n",
              "    }\n",
              "\n",
              "    [theme=dark] .colab-df-convert {\n",
              "      background-color: #3B4455;\n",
              "      fill: #D2E3FC;\n",
              "    }\n",
              "\n",
              "    [theme=dark] .colab-df-convert:hover {\n",
              "      background-color: #434B5C;\n",
              "      box-shadow: 0px 1px 3px 1px rgba(0, 0, 0, 0.15);\n",
              "      filter: drop-shadow(0px 1px 2px rgba(0, 0, 0, 0.3));\n",
              "      fill: #FFFFFF;\n",
              "    }\n",
              "  </style>\n",
              "\n",
              "      <script>\n",
              "        const buttonEl =\n",
              "          document.querySelector('#df-d55bb7f7-d443-4749-bb32-53de6d1b1678 button.colab-df-convert');\n",
              "        buttonEl.style.display =\n",
              "          google.colab.kernel.accessAllowed ? 'block' : 'none';\n",
              "\n",
              "        async function convertToInteractive(key) {\n",
              "          const element = document.querySelector('#df-d55bb7f7-d443-4749-bb32-53de6d1b1678');\n",
              "          const dataTable =\n",
              "            await google.colab.kernel.invokeFunction('convertToInteractive',\n",
              "                                                     [key], {});\n",
              "          if (!dataTable) return;\n",
              "\n",
              "          const docLinkHtml = 'Like what you see? Visit the ' +\n",
              "            '<a target=\"_blank\" href=https://colab.research.google.com/notebooks/data_table.ipynb>data table notebook</a>'\n",
              "            + ' to learn more about interactive tables.';\n",
              "          element.innerHTML = '';\n",
              "          dataTable['output_type'] = 'display_data';\n",
              "          await google.colab.output.renderOutput(dataTable, element);\n",
              "          const docLink = document.createElement('div');\n",
              "          docLink.innerHTML = docLinkHtml;\n",
              "          element.appendChild(docLink);\n",
              "        }\n",
              "      </script>\n",
              "    </div>\n",
              "  </div>\n",
              "  "
            ]
          },
          "metadata": {},
          "execution_count": 26
        }
      ]
    },
    {
      "cell_type": "code",
      "source": [
        "#country uses the least\n",
        "data.sort_values(by=['Internet_Users'],ascending=True).head(1)"
      ],
      "metadata": {
        "colab": {
          "base_uri": "https://localhost:8080/",
          "height": 81
        },
        "id": "8XAsneSp0R1O",
        "outputId": "f4e96d69-6eff-41b5-8fbb-c80cce01e5eb"
      },
      "execution_count": null,
      "outputs": [
        {
          "output_type": "execute_result",
          "data": {
            "text/plain": [
              "                Country   Region  Population  Internet_Users  \\\n",
              "46  Cocos (Keeling) Is.  Oceania         596             414   \n",
              "\n",
              "    Population_Percentage  \n",
              "46                  69.46  "
            ],
            "text/html": [
              "\n",
              "  <div id=\"df-eb465141-0b91-440e-99ff-f1a2e398715d\">\n",
              "    <div class=\"colab-df-container\">\n",
              "      <div>\n",
              "<style scoped>\n",
              "    .dataframe tbody tr th:only-of-type {\n",
              "        vertical-align: middle;\n",
              "    }\n",
              "\n",
              "    .dataframe tbody tr th {\n",
              "        vertical-align: top;\n",
              "    }\n",
              "\n",
              "    .dataframe thead th {\n",
              "        text-align: right;\n",
              "    }\n",
              "</style>\n",
              "<table border=\"1\" class=\"dataframe\">\n",
              "  <thead>\n",
              "    <tr style=\"text-align: right;\">\n",
              "      <th></th>\n",
              "      <th>Country</th>\n",
              "      <th>Region</th>\n",
              "      <th>Population</th>\n",
              "      <th>Internet_Users</th>\n",
              "      <th>Population_Percentage</th>\n",
              "    </tr>\n",
              "  </thead>\n",
              "  <tbody>\n",
              "    <tr>\n",
              "      <th>46</th>\n",
              "      <td>Cocos (Keeling) Is.</td>\n",
              "      <td>Oceania</td>\n",
              "      <td>596</td>\n",
              "      <td>414</td>\n",
              "      <td>69.46</td>\n",
              "    </tr>\n",
              "  </tbody>\n",
              "</table>\n",
              "</div>\n",
              "      <button class=\"colab-df-convert\" onclick=\"convertToInteractive('df-eb465141-0b91-440e-99ff-f1a2e398715d')\"\n",
              "              title=\"Convert this dataframe to an interactive table.\"\n",
              "              style=\"display:none;\">\n",
              "        \n",
              "  <svg xmlns=\"http://www.w3.org/2000/svg\" height=\"24px\"viewBox=\"0 0 24 24\"\n",
              "       width=\"24px\">\n",
              "    <path d=\"M0 0h24v24H0V0z\" fill=\"none\"/>\n",
              "    <path d=\"M18.56 5.44l.94 2.06.94-2.06 2.06-.94-2.06-.94-.94-2.06-.94 2.06-2.06.94zm-11 1L8.5 8.5l.94-2.06 2.06-.94-2.06-.94L8.5 2.5l-.94 2.06-2.06.94zm10 10l.94 2.06.94-2.06 2.06-.94-2.06-.94-.94-2.06-.94 2.06-2.06.94z\"/><path d=\"M17.41 7.96l-1.37-1.37c-.4-.4-.92-.59-1.43-.59-.52 0-1.04.2-1.43.59L10.3 9.45l-7.72 7.72c-.78.78-.78 2.05 0 2.83L4 21.41c.39.39.9.59 1.41.59.51 0 1.02-.2 1.41-.59l7.78-7.78 2.81-2.81c.8-.78.8-2.07 0-2.86zM5.41 20L4 18.59l7.72-7.72 1.47 1.35L5.41 20z\"/>\n",
              "  </svg>\n",
              "      </button>\n",
              "      \n",
              "  <style>\n",
              "    .colab-df-container {\n",
              "      display:flex;\n",
              "      flex-wrap:wrap;\n",
              "      gap: 12px;\n",
              "    }\n",
              "\n",
              "    .colab-df-convert {\n",
              "      background-color: #E8F0FE;\n",
              "      border: none;\n",
              "      border-radius: 50%;\n",
              "      cursor: pointer;\n",
              "      display: none;\n",
              "      fill: #1967D2;\n",
              "      height: 32px;\n",
              "      padding: 0 0 0 0;\n",
              "      width: 32px;\n",
              "    }\n",
              "\n",
              "    .colab-df-convert:hover {\n",
              "      background-color: #E2EBFA;\n",
              "      box-shadow: 0px 1px 2px rgba(60, 64, 67, 0.3), 0px 1px 3px 1px rgba(60, 64, 67, 0.15);\n",
              "      fill: #174EA6;\n",
              "    }\n",
              "\n",
              "    [theme=dark] .colab-df-convert {\n",
              "      background-color: #3B4455;\n",
              "      fill: #D2E3FC;\n",
              "    }\n",
              "\n",
              "    [theme=dark] .colab-df-convert:hover {\n",
              "      background-color: #434B5C;\n",
              "      box-shadow: 0px 1px 3px 1px rgba(0, 0, 0, 0.15);\n",
              "      filter: drop-shadow(0px 1px 2px rgba(0, 0, 0, 0.3));\n",
              "      fill: #FFFFFF;\n",
              "    }\n",
              "  </style>\n",
              "\n",
              "      <script>\n",
              "        const buttonEl =\n",
              "          document.querySelector('#df-eb465141-0b91-440e-99ff-f1a2e398715d button.colab-df-convert');\n",
              "        buttonEl.style.display =\n",
              "          google.colab.kernel.accessAllowed ? 'block' : 'none';\n",
              "\n",
              "        async function convertToInteractive(key) {\n",
              "          const element = document.querySelector('#df-eb465141-0b91-440e-99ff-f1a2e398715d');\n",
              "          const dataTable =\n",
              "            await google.colab.kernel.invokeFunction('convertToInteractive',\n",
              "                                                     [key], {});\n",
              "          if (!dataTable) return;\n",
              "\n",
              "          const docLinkHtml = 'Like what you see? Visit the ' +\n",
              "            '<a target=\"_blank\" href=https://colab.research.google.com/notebooks/data_table.ipynb>data table notebook</a>'\n",
              "            + ' to learn more about interactive tables.';\n",
              "          element.innerHTML = '';\n",
              "          dataTable['output_type'] = 'display_data';\n",
              "          await google.colab.output.renderOutput(dataTable, element);\n",
              "          const docLink = document.createElement('div');\n",
              "          docLink.innerHTML = docLinkHtml;\n",
              "          element.appendChild(docLink);\n",
              "        }\n",
              "      </script>\n",
              "    </div>\n",
              "  </div>\n",
              "  "
            ]
          },
          "metadata": {},
          "execution_count": 28
        }
      ]
    },
    {
      "cell_type": "markdown",
      "source": [
        "2. Statistical Overviews"
      ],
      "metadata": {
        "id": "LRrRwyq3m0nd"
      }
    },
    {
      "cell_type": "code",
      "source": [
        "#mean range of internet users\n",
        "data['Internet Users'].mean()"
      ],
      "metadata": {
        "id": "hqfqaGZCSbfC",
        "colab": {
          "base_uri": "https://localhost:8080/"
        },
        "outputId": "3bc1e9cc-8d04-4445-d4bc-18cbcb7b3b07"
      },
      "execution_count": null,
      "outputs": [
        {
          "output_type": "execute_result",
          "data": {
            "text/plain": [
              "22413555.045454547"
            ]
          },
          "metadata": {},
          "execution_count": 11
        }
      ]
    },
    {
      "cell_type": "code",
      "source": [
        "#min range\n",
        "data['Internet_Users'].min()"
      ],
      "metadata": {
        "colab": {
          "base_uri": "https://localhost:8080/"
        },
        "id": "9t9i380b7uiP",
        "outputId": "f70432be-17d8-46ce-a207-918065888073"
      },
      "execution_count": null,
      "outputs": [
        {
          "output_type": "execute_result",
          "data": {
            "text/plain": [
              "414"
            ]
          },
          "metadata": {},
          "execution_count": 29
        }
      ]
    },
    {
      "cell_type": "code",
      "source": [
        "#Max range of users\n",
        "data['Internet Users'].max()"
      ],
      "metadata": {
        "colab": {
          "base_uri": "https://localhost:8080/"
        },
        "id": "fhV9-y_6SuLE",
        "outputId": "c9cc5e05-fe03-4d2f-d07d-786a47942164"
      },
      "execution_count": null,
      "outputs": [
        {
          "output_type": "execute_result",
          "data": {
            "text/plain": [
              "1010740000"
            ]
          },
          "metadata": {},
          "execution_count": 12
        }
      ]
    },
    {
      "cell_type": "markdown",
      "source": [
        "3. Which Region Have most internet users"
      ],
      "metadata": {
        "id": "IVY6BrMjnPO3"
      }
    },
    {
      "cell_type": "code",
      "source": [
        "x=data['Region'].hist()\n",
        "#the figure shows that most of the users are from African Region #as compared to other regions middle east is in lower position"
      ],
      "metadata": {
        "colab": {
          "base_uri": "https://localhost:8080/",
          "height": 266
        },
        "id": "d1-RFtO2oEy2",
        "outputId": "057b6f35-d96b-4fa3-ba85-6ddc9fb8dbe9"
      },
      "execution_count": null,
      "outputs": [
        {
          "output_type": "display_data",
          "data": {
            "text/plain": [
              "<Figure size 432x288 with 1 Axes>"
            ],
            "image/png": "[encoded data removed]"
          },
          "metadata": {
            "needs_background": "light"
          }
        }
      ]
    },
    {
      "cell_type": "code",
      "source": [
        "#internet users count in region wise\n",
        "d= data.groupby(['Region'])['Internet_Users'].agg(lambda x: x.unique().sum()/x.nunique())\n",
        "d"
      ],
      "metadata": {
        "colab": {
          "base_uri": "https://localhost:8080/"
        },
        "id": "yz14LO3Pnspa",
        "outputId": "6df8dfc1-871c-4f46-bee9-e0f395f20500"
      },
      "execution_count": null,
      "outputs": [
        {
          "output_type": "execute_result",
          "data": {
            "text/plain": [
              "Region\n",
              "Africa         1.036845e+07\n",
              "America        1.623539e+07\n",
              "Asia           8.382533e+07\n",
              "Europe         1.416596e+07\n",
              "Middle East    1.527783e+07\n",
              "Oceania        1.199656e+06\n",
              "Name: Internet_Users, dtype: float64"
            ]
          },
          "metadata": {},
          "execution_count": 40
        }
      ]
    },
    {
      "cell_type": "code",
      "source": [
        "#heatmaps shows correlation between numerical data\n",
        "sns.heatmap(data.corr(), annot=True)"
      ],
      "metadata": {
        "colab": {
          "base_uri": "https://localhost:8080/",
          "height": 390
        },
        "id": "OtCEA7NRoDZe",
        "outputId": "e574b386-2219-456d-fc04-f360af2967bc"
      },
      "execution_count": null,
      "outputs": [
        {
          "output_type": "execute_result",
          "data": {
            "text/plain": [
              "<matplotlib.axes._subplots.AxesSubplot at 0x7f4d6b099550>"
            ]
          },
          "metadata": {},
          "execution_count": 41
        },
        {
          "output_type": "display_data",
          "data": {
            "text/plain": [
              "<Figure size 432x288 with 2 Axes>"
            ],
            "image/png": "[encoded data removed]"
          },
          "metadata": {
            "needs_background": "light"
          }
        }
      ]
    },
    {
      "cell_type": "code",
      "source": [
        "#pairplot for understanding distribution and correlation\n",
        "sns.pairplot(data, kind='scatter', hue=None)"
      ],
      "metadata": {
        "colab": {
          "base_uri": "https://localhost:8080/",
          "height": 567
        },
        "id": "XdMFnMrlogcc",
        "outputId": "c2884599-c440-4c71-acac-cf0dd8d2556a"
      },
      "execution_count": null,
      "outputs": [
        {
          "output_type": "execute_result",
          "data": {
            "text/plain": [
              "<seaborn.axisgrid.PairGrid at 0x7f4d6bf7b880>"
            ]
          },
          "metadata": {},
          "execution_count": 35
        },
        {
          "output_type": "display_data",
          "data": {
            "text/plain": [
              "<Figure size 540x540 with 12 Axes>"
            ],
            "image/png": "[encoded data removed]"
          },
          "metadata": {
            "needs_background": "light"
          }
        }
      ]
    },
    {
      "cell_type": "markdown",
      "source": [
        "4.Percentage of Internet users in different  Regions"
      ],
      "metadata": {
        "id": "YpaoPfXT7Wpf"
      }
    },
    {
      "cell_type": "code",
      "source": [
        "data['Region'].value_counts()"
      ],
      "metadata": {
        "colab": {
          "base_uri": "https://localhost:8080/"
        },
        "id": "dv9prL0k7Pmu",
        "outputId": "cb52681b-9b3c-40e6-e03c-5896462667d6"
      },
      "execution_count": null,
      "outputs": [
        {
          "output_type": "execute_result",
          "data": {
            "text/plain": [
              "Africa         58\n",
              "America        55\n",
              "Europe         53\n",
              "Asia           35\n",
              "Oceania        27\n",
              "Middle East    14\n",
              "Name: Region, dtype: int64"
            ]
          },
          "metadata": {},
          "execution_count": 104
        }
      ]
    },
    {
      "cell_type": "code",
      "source": [
        "regions = ('Africa', 'America', 'Europe', 'Asia', 'Oceania', 'Middle East')\n",
        "counts = (58, 55, 53, 35, 27, 14)\n",
        "colors = ('Red','Yellow',\"Blue\",\"White\",\"Green\",\"Orange\")\n",
        "plt.pie(\n",
        "    counts,\n",
        "    labels=regions,\n",
        "    autopct='%1.1f%%',\n",
        "    colors=colors,\n",
        "    shadow=True\n",
        ")\n",
        "plt.show()"
      ],
      "metadata": {
        "colab": {
          "base_uri": "https://localhost:8080/",
          "height": 248
        },
        "id": "D25_-zR_7Bn7",
        "outputId": "e5832339-3915-4f4c-b8c7-25d15005535a"
      },
      "execution_count": null,
      "outputs": [
        {
          "output_type": "display_data",
          "data": {
            "text/plain": [
              "<Figure size 432x288 with 1 Axes>"
            ],
            "image/png": "[encoded data removed]"
          },
          "metadata": {}
        }
      ]
    },
    {
      "cell_type": "markdown",
      "source": [
        "4.List of people who dont consume internet"
      ],
      "metadata": {
        "id": "deJHGBrr4hUh"
      }
    },
    {
      "cell_type": "code",
      "source": [
        "data['Non Users']=data['Population']-data['Internet Users']\n",
        "data.head"
      ],
      "metadata": {
        "colab": {
          "base_uri": "https://localhost:8080/"
        },
        "id": "Ra_BvzU-4Jvp",
        "outputId": "1cd8d4aa-2e05-43ce-caba-244118d6e1e9"
      },
      "execution_count": null,
      "outputs": [
        {
          "output_type": "execute_result",
          "data": {
            "text/plain": [
              "<bound method NDFrame.head of              Country       Region  Population  Internet Users  \\\n",
              "1         Afganistan         Asia    40403518         9237489   \n",
              "2            Albania       Europe     2872758         2191467   \n",
              "3            Algeria       Africa    45150879        37836425   \n",
              "4     American Samoa      Oceania       54995           34800   \n",
              "5            Andorra       Europe       77465           73101   \n",
              "..               ...          ...         ...             ...   \n",
              "238  Wallis & Futuna      Oceania       10932            6200   \n",
              "239   Western Sahara       Africa      611875           28000   \n",
              "240            Yemen  Middle East    30938435         8353377   \n",
              "241           Zambia       Africa    18920651         9870427   \n",
              "242         Zimbabwe       Africa    15092171         8400000   \n",
              "\n",
              "     % of Population  Non Users  \n",
              "1              22.86   31166029  \n",
              "2              76.28     681291  \n",
              "3              83.80    7314454  \n",
              "4              63.28      20195  \n",
              "5              94.37       4364  \n",
              "..               ...        ...  \n",
              "238            56.71       4732  \n",
              "239             4.58     583875  \n",
              "240            27.00   22585058  \n",
              "241            52.17    9050224  \n",
              "242            55.66    6692171  \n",
              "\n",
              "[242 rows x 6 columns]>"
            ]
          },
          "metadata": {},
          "execution_count": 18
        }
      ]
    },
    {
      "cell_type": "markdown",
      "source": [
        "5.list of countries having  population percentage on internet more than 50%"
      ],
      "metadata": {
        "id": "-MKM3sEFlfkL"
      }
    },
    {
      "cell_type": "code",
      "source": [
        "data[data['Population_Percentage']>=50]['Country'].count()"
      ],
      "metadata": {
        "colab": {
          "base_uri": "https://localhost:8080/"
        },
        "id": "Xa56x_gx5Rhc",
        "outputId": "bec378e1-57a6-4b93-bf52-a83e3a8036b5"
      },
      "execution_count": null,
      "outputs": [
        {
          "output_type": "execute_result",
          "data": {
            "text/plain": [
              "189"
            ]
          },
          "metadata": {},
          "execution_count": 31
        }
      ]
    },
    {
      "cell_type": "markdown",
      "source": [
        "### **CONCLUSION ON STUDY**"
      ],
      "metadata": {
        "id": "EzYNMmqy4D7j"
      }
    },
    {
      "cell_type": "code",
      "source": [],
      "metadata": {
        "id": "wOyWBV2_poAJ"
      },
      "execution_count": null,
      "outputs": []
    },
    {
      "cell_type": "markdown",
      "source": [
        "The analysis was held on the topic \"WORLD INTERNET USERS\"; from the study, we concluded that approximately 68.48% of the total population consumes internet, and the region who ranks first in internet consumption is \"Africa,\" with nearly 1.036845e+07 of total population uses internet and the percentage of degree is  \"24.0%\" of the total internet users  population, when it comes to country-specific details. \"China\" is ranked first among the world's 249 countries, in which half of its total population using the internet. \"Coco\" from the Oceania region is the least internet-using country, with only 414 people using the internet. Half of the population of 189 countries uses the internet, compared to 249 countries."
      ],
      "metadata": {
        "id": "UwzPUWBynBEz"
      }
    },
    {
      "cell_type": "code",
      "source": [],
      "metadata": {
        "id": "4LdGsTDamd28"
      },
      "execution_count": null,
      "outputs": []
    }
  ]
}